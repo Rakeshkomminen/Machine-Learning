{
  "nbformat": 4,
  "nbformat_minor": 0,
  "metadata": {
    "colab": {
      "name": "Predition of Marks Based on Hours of study.ipynb",
      "provenance": [],
      "collapsed_sections": [],
      "authorship_tag": "ABX9TyPPJjb6jPToIqmuBuAMbF3Z",
      "include_colab_link": true
    },
    "kernelspec": {
      "name": "python3",
      "display_name": "Python 3"
    },
    "language_info": {
      "name": "python"
    }
  },
  "cells": [
    {
      "cell_type": "markdown",
      "metadata": {
        "id": "view-in-github",
        "colab_type": "text"
      },
      "source": [
        "<a href=\"https://colab.research.google.com/github/Rakeshkomminen/Machine-Learning/blob/main/Predition_of_Marks_Based_on_Hours_of_study.ipynb\" target=\"_parent\"><img src=\"https://colab.research.google.com/assets/colab-badge.svg\" alt=\"Open In Colab\"/></a>"
      ]
    },
    {
      "cell_type": "markdown",
      "metadata": {
        "id": "9jZXomuHtfGH"
      },
      "source": [
        "# Importing the Libraries"
      ]
    },
    {
      "cell_type": "code",
      "metadata": {
        "id": "xusvpgSNsPBu"
      },
      "source": [
        "import numpy as np\n",
        "import pandas as pd\n",
        "import matplotlib.pyplot as plt\n",
        "import seaborn as sns\n",
        "import re\n",
        "from sklearn.metrics import r2_score,mean_squared_error,mean_absolute_error\n",
        "from sklearn.model_selection import train_test_split\n",
        "from sklearn.linear_model import LinearRegression\n",
        "from sklearn.svm import SVR\n",
        "from sklearn.preprocessing import StandardScaler"
      ],
      "execution_count": null,
      "outputs": []
    },
    {
      "cell_type": "markdown",
      "metadata": {
        "id": "4fUobTRzu7su"
      },
      "source": [
        "# Problem Statement\n",
        "   In this data, we have one independent variable (Features) \"Hours of Study\" and one dependent variable (Target) \"Marks\". You have to train LinearRegression and  SVR models to understand the relationship between the Hours of Study and Marks of the student to predict the student's marks based on their number of hours dedicated to studies.Find the best Model for this Dataset Among them?\n"
      ]
    },
    {
      "cell_type": "markdown",
      "metadata": {
        "id": "2ybx4r-OvF6H"
      },
      "source": [
        "\n",
        "# Importing the dataset"
      ]
    },
    {
      "cell_type": "code",
      "metadata": {
        "id": "iP_SaPa-ukeh"
      },
      "source": [
        "df = pd.read_csv('https://raw.githubusercontent.com/mk-gurucharan/Regression/master/SampleData.csv')"
      ],
      "execution_count": null,
      "outputs": []
    },
    {
      "cell_type": "markdown",
      "metadata": {
        "id": "gVjaBOYqvWXF"
      },
      "source": [
        "# EDA"
      ]
    },
    {
      "cell_type": "code",
      "metadata": {
        "colab": {
          "base_uri": "https://localhost:8080/",
          "height": 203
        },
        "id": "hiT57s7CvT_i",
        "outputId": "becb9a3a-ca95-4ea2-af9d-e453d0855d6a"
      },
      "source": [
        "df.head()"
      ],
      "execution_count": null,
      "outputs": [
        {
          "output_type": "execute_result",
          "data": {
            "text/html": [
              "<div>\n",
              "<style scoped>\n",
              "    .dataframe tbody tr th:only-of-type {\n",
              "        vertical-align: middle;\n",
              "    }\n",
              "\n",
              "    .dataframe tbody tr th {\n",
              "        vertical-align: top;\n",
              "    }\n",
              "\n",
              "    .dataframe thead th {\n",
              "        text-align: right;\n",
              "    }\n",
              "</style>\n",
              "<table border=\"1\" class=\"dataframe\">\n",
              "  <thead>\n",
              "    <tr style=\"text-align: right;\">\n",
              "      <th></th>\n",
              "      <th>Hours of Study</th>\n",
              "      <th>Marks</th>\n",
              "    </tr>\n",
              "  </thead>\n",
              "  <tbody>\n",
              "    <tr>\n",
              "      <th>0</th>\n",
              "      <td>32.502345</td>\n",
              "      <td>31.707006</td>\n",
              "    </tr>\n",
              "    <tr>\n",
              "      <th>1</th>\n",
              "      <td>53.426804</td>\n",
              "      <td>68.777596</td>\n",
              "    </tr>\n",
              "    <tr>\n",
              "      <th>2</th>\n",
              "      <td>61.530358</td>\n",
              "      <td>62.562382</td>\n",
              "    </tr>\n",
              "    <tr>\n",
              "      <th>3</th>\n",
              "      <td>47.475640</td>\n",
              "      <td>71.546632</td>\n",
              "    </tr>\n",
              "    <tr>\n",
              "      <th>4</th>\n",
              "      <td>59.813208</td>\n",
              "      <td>87.230925</td>\n",
              "    </tr>\n",
              "  </tbody>\n",
              "</table>\n",
              "</div>"
            ],
            "text/plain": [
              "   Hours of Study      Marks\n",
              "0       32.502345  31.707006\n",
              "1       53.426804  68.777596\n",
              "2       61.530358  62.562382\n",
              "3       47.475640  71.546632\n",
              "4       59.813208  87.230925"
            ]
          },
          "metadata": {},
          "execution_count": 74
        }
      ]
    },
    {
      "cell_type": "code",
      "metadata": {
        "colab": {
          "base_uri": "https://localhost:8080/",
          "height": 203
        },
        "id": "p5zf2q70vVks",
        "outputId": "1e35e972-3603-46d4-d023-96e556e07dce"
      },
      "source": [
        "df.tail()"
      ],
      "execution_count": null,
      "outputs": [
        {
          "output_type": "execute_result",
          "data": {
            "text/html": [
              "<div>\n",
              "<style scoped>\n",
              "    .dataframe tbody tr th:only-of-type {\n",
              "        vertical-align: middle;\n",
              "    }\n",
              "\n",
              "    .dataframe tbody tr th {\n",
              "        vertical-align: top;\n",
              "    }\n",
              "\n",
              "    .dataframe thead th {\n",
              "        text-align: right;\n",
              "    }\n",
              "</style>\n",
              "<table border=\"1\" class=\"dataframe\">\n",
              "  <thead>\n",
              "    <tr style=\"text-align: right;\">\n",
              "      <th></th>\n",
              "      <th>Hours of Study</th>\n",
              "      <th>Marks</th>\n",
              "    </tr>\n",
              "  </thead>\n",
              "  <tbody>\n",
              "    <tr>\n",
              "      <th>95</th>\n",
              "      <td>50.030174</td>\n",
              "      <td>81.536991</td>\n",
              "    </tr>\n",
              "    <tr>\n",
              "      <th>96</th>\n",
              "      <td>49.239765</td>\n",
              "      <td>72.111832</td>\n",
              "    </tr>\n",
              "    <tr>\n",
              "      <th>97</th>\n",
              "      <td>50.039576</td>\n",
              "      <td>85.232007</td>\n",
              "    </tr>\n",
              "    <tr>\n",
              "      <th>98</th>\n",
              "      <td>48.149859</td>\n",
              "      <td>66.224958</td>\n",
              "    </tr>\n",
              "    <tr>\n",
              "      <th>99</th>\n",
              "      <td>25.128485</td>\n",
              "      <td>53.454394</td>\n",
              "    </tr>\n",
              "  </tbody>\n",
              "</table>\n",
              "</div>"
            ],
            "text/plain": [
              "    Hours of Study      Marks\n",
              "95       50.030174  81.536991\n",
              "96       49.239765  72.111832\n",
              "97       50.039576  85.232007\n",
              "98       48.149859  66.224958\n",
              "99       25.128485  53.454394"
            ]
          },
          "metadata": {},
          "execution_count": 75
        }
      ]
    },
    {
      "cell_type": "code",
      "metadata": {
        "colab": {
          "base_uri": "https://localhost:8080/"
        },
        "id": "H-a6haTcvclm",
        "outputId": "500300f6-7090-4230-cd87-8dd58a24adf6"
      },
      "source": [
        "df.shape"
      ],
      "execution_count": null,
      "outputs": [
        {
          "output_type": "execute_result",
          "data": {
            "text/plain": [
              "(100, 2)"
            ]
          },
          "metadata": {},
          "execution_count": 76
        }
      ]
    },
    {
      "cell_type": "code",
      "metadata": {
        "colab": {
          "base_uri": "https://localhost:8080/"
        },
        "id": "ju-hIqd0ve9b",
        "outputId": "550b5240-16cc-4e6a-9bde-a115bfa959b1"
      },
      "source": [
        "df.info()"
      ],
      "execution_count": null,
      "outputs": [
        {
          "output_type": "stream",
          "text": [
            "<class 'pandas.core.frame.DataFrame'>\n",
            "RangeIndex: 100 entries, 0 to 99\n",
            "Data columns (total 2 columns):\n",
            " #   Column          Non-Null Count  Dtype  \n",
            "---  ------          --------------  -----  \n",
            " 0   Hours of Study  100 non-null    float64\n",
            " 1   Marks           100 non-null    float64\n",
            "dtypes: float64(2)\n",
            "memory usage: 1.7 KB\n"
          ],
          "name": "stdout"
        }
      ]
    },
    {
      "cell_type": "code",
      "metadata": {
        "colab": {
          "base_uri": "https://localhost:8080/",
          "height": 295
        },
        "id": "klRjRSwhvkSh",
        "outputId": "c7e6d8c6-e11c-4b6f-9502-ea4f3b1f805f"
      },
      "source": [
        "df.describe()"
      ],
      "execution_count": null,
      "outputs": [
        {
          "output_type": "execute_result",
          "data": {
            "text/html": [
              "<div>\n",
              "<style scoped>\n",
              "    .dataframe tbody tr th:only-of-type {\n",
              "        vertical-align: middle;\n",
              "    }\n",
              "\n",
              "    .dataframe tbody tr th {\n",
              "        vertical-align: top;\n",
              "    }\n",
              "\n",
              "    .dataframe thead th {\n",
              "        text-align: right;\n",
              "    }\n",
              "</style>\n",
              "<table border=\"1\" class=\"dataframe\">\n",
              "  <thead>\n",
              "    <tr style=\"text-align: right;\">\n",
              "      <th></th>\n",
              "      <th>Hours of Study</th>\n",
              "      <th>Marks</th>\n",
              "    </tr>\n",
              "  </thead>\n",
              "  <tbody>\n",
              "    <tr>\n",
              "      <th>count</th>\n",
              "      <td>100.000000</td>\n",
              "      <td>100.000000</td>\n",
              "    </tr>\n",
              "    <tr>\n",
              "      <th>mean</th>\n",
              "      <td>48.958341</td>\n",
              "      <td>72.035051</td>\n",
              "    </tr>\n",
              "    <tr>\n",
              "      <th>std</th>\n",
              "      <td>9.746379</td>\n",
              "      <td>15.200087</td>\n",
              "    </tr>\n",
              "    <tr>\n",
              "      <th>min</th>\n",
              "      <td>25.128485</td>\n",
              "      <td>31.707006</td>\n",
              "    </tr>\n",
              "    <tr>\n",
              "      <th>25%</th>\n",
              "      <td>41.526164</td>\n",
              "      <td>60.788586</td>\n",
              "    </tr>\n",
              "    <tr>\n",
              "      <th>50%</th>\n",
              "      <td>49.634970</td>\n",
              "      <td>72.179542</td>\n",
              "    </tr>\n",
              "    <tr>\n",
              "      <th>75%</th>\n",
              "      <td>56.762631</td>\n",
              "      <td>83.215080</td>\n",
              "    </tr>\n",
              "    <tr>\n",
              "      <th>max</th>\n",
              "      <td>70.346076</td>\n",
              "      <td>99.051415</td>\n",
              "    </tr>\n",
              "  </tbody>\n",
              "</table>\n",
              "</div>"
            ],
            "text/plain": [
              "       Hours of Study       Marks\n",
              "count      100.000000  100.000000\n",
              "mean        48.958341   72.035051\n",
              "std          9.746379   15.200087\n",
              "min         25.128485   31.707006\n",
              "25%         41.526164   60.788586\n",
              "50%         49.634970   72.179542\n",
              "75%         56.762631   83.215080\n",
              "max         70.346076   99.051415"
            ]
          },
          "metadata": {},
          "execution_count": 78
        }
      ]
    },
    {
      "cell_type": "code",
      "metadata": {
        "colab": {
          "base_uri": "https://localhost:8080/"
        },
        "id": "eyalqHGmvn20",
        "outputId": "c485f386-ef19-4d43-a991-d83e779c562e"
      },
      "source": [
        "df.columns"
      ],
      "execution_count": null,
      "outputs": [
        {
          "output_type": "execute_result",
          "data": {
            "text/plain": [
              "Index(['Hours of Study', 'Marks'], dtype='object')"
            ]
          },
          "metadata": {},
          "execution_count": 79
        }
      ]
    },
    {
      "cell_type": "code",
      "metadata": {
        "colab": {
          "base_uri": "https://localhost:8080/"
        },
        "id": "rTir-u0Dvv8F",
        "outputId": "b1c26754-6de8-439d-a50a-115de3958d9e"
      },
      "source": [
        "df.isnull().sum()"
      ],
      "execution_count": null,
      "outputs": [
        {
          "output_type": "execute_result",
          "data": {
            "text/plain": [
              "Hours of Study    0\n",
              "Marks             0\n",
              "dtype: int64"
            ]
          },
          "metadata": {},
          "execution_count": 80
        }
      ]
    },
    {
      "cell_type": "code",
      "metadata": {
        "id": "WcdD2Aitv0k9"
      },
      "source": [
        "df.rename(columns={'Hours of Study':'Hours'},inplace=True)"
      ],
      "execution_count": null,
      "outputs": []
    },
    {
      "cell_type": "code",
      "metadata": {
        "colab": {
          "base_uri": "https://localhost:8080/",
          "height": 203
        },
        "id": "eLlGRZTowL3z",
        "outputId": "8bdf9c5a-5a62-40c7-b80f-76fb5bbef21f"
      },
      "source": [
        "df.head()"
      ],
      "execution_count": null,
      "outputs": [
        {
          "output_type": "execute_result",
          "data": {
            "text/html": [
              "<div>\n",
              "<style scoped>\n",
              "    .dataframe tbody tr th:only-of-type {\n",
              "        vertical-align: middle;\n",
              "    }\n",
              "\n",
              "    .dataframe tbody tr th {\n",
              "        vertical-align: top;\n",
              "    }\n",
              "\n",
              "    .dataframe thead th {\n",
              "        text-align: right;\n",
              "    }\n",
              "</style>\n",
              "<table border=\"1\" class=\"dataframe\">\n",
              "  <thead>\n",
              "    <tr style=\"text-align: right;\">\n",
              "      <th></th>\n",
              "      <th>Hours</th>\n",
              "      <th>Marks</th>\n",
              "    </tr>\n",
              "  </thead>\n",
              "  <tbody>\n",
              "    <tr>\n",
              "      <th>0</th>\n",
              "      <td>32.502345</td>\n",
              "      <td>31.707006</td>\n",
              "    </tr>\n",
              "    <tr>\n",
              "      <th>1</th>\n",
              "      <td>53.426804</td>\n",
              "      <td>68.777596</td>\n",
              "    </tr>\n",
              "    <tr>\n",
              "      <th>2</th>\n",
              "      <td>61.530358</td>\n",
              "      <td>62.562382</td>\n",
              "    </tr>\n",
              "    <tr>\n",
              "      <th>3</th>\n",
              "      <td>47.475640</td>\n",
              "      <td>71.546632</td>\n",
              "    </tr>\n",
              "    <tr>\n",
              "      <th>4</th>\n",
              "      <td>59.813208</td>\n",
              "      <td>87.230925</td>\n",
              "    </tr>\n",
              "  </tbody>\n",
              "</table>\n",
              "</div>"
            ],
            "text/plain": [
              "       Hours      Marks\n",
              "0  32.502345  31.707006\n",
              "1  53.426804  68.777596\n",
              "2  61.530358  62.562382\n",
              "3  47.475640  71.546632\n",
              "4  59.813208  87.230925"
            ]
          },
          "metadata": {},
          "execution_count": 82
        }
      ]
    },
    {
      "cell_type": "code",
      "metadata": {
        "colab": {
          "base_uri": "https://localhost:8080/",
          "height": 367
        },
        "id": "0QbsAvrTwN1z",
        "outputId": "c6fa61eb-5a65-4b0e-c7a9-f3ad2279d14a"
      },
      "source": [
        "plt.figure(figsize=(5,5))\n",
        "plt.scatter(df['Hours'],df['Marks'])\n",
        "plt.xlabel('Hours')\n",
        "plt.ylabel('Marls')\n",
        "plt.grid()\n",
        "plt.title('Hours v/s Marks')"
      ],
      "execution_count": null,
      "outputs": [
        {
          "output_type": "execute_result",
          "data": {
            "text/plain": [
              "Text(0.5, 1.0, 'Hours v/s Marks')"
            ]
          },
          "metadata": {},
          "execution_count": 83
        },
        {
          "output_type": "display_data",
          "data": {
            "image/png": "[encoded data removed]",
            "text/plain": [
              "<Figure size 360x360 with 1 Axes>"
            ]
          },
          "metadata": {
            "needs_background": "light"
          }
        }
      ]
    },
    {
      "cell_type": "code",
      "metadata": {
        "colab": {
          "base_uri": "https://localhost:8080/",
          "height": 341
        },
        "id": "63Qt1uGMwuti",
        "outputId": "1e9a9f1b-4c08-4044-d9bc-1163883bb257"
      },
      "source": [
        "plt.figure(figsize=(5,5))\n",
        "sns.heatmap(df.corr(),annot=True, cmap='Blues')"
      ],
      "execution_count": null,
      "outputs": [
        {
          "output_type": "execute_result",
          "data": {
            "text/plain": [
              "<matplotlib.axes._subplots.AxesSubplot at 0x7fb7f0b29790>"
            ]
          },
          "metadata": {},
          "execution_count": 84
        },
        {
          "output_type": "display_data",
          "data": {
            "image/png": "[encoded data removed]",
            "text/plain": [
              "<Figure size 360x360 with 2 Axes>"
            ]
          },
          "metadata": {
            "needs_background": "light"
          }
        }
      ]
    },
    {
      "cell_type": "code",
      "metadata": {
        "id": "MJKjP64-4lj1"
      },
      "source": [
        "X = df.iloc[:,:-1].values\n",
        "y = df.iloc[:,-1].values"
      ],
      "execution_count": null,
      "outputs": []
    },
    {
      "cell_type": "code",
      "metadata": {
        "colab": {
          "base_uri": "https://localhost:8080/"
        },
        "id": "NuzARrAH4-hw",
        "outputId": "3f6888af-cfd5-47a4-f9c7-fb03ef5df0c6"
      },
      "source": [
        "X"
      ],
      "execution_count": null,
      "outputs": [
        {
          "output_type": "execute_result",
          "data": {
            "text/plain": [
              "array([[32.50234527],\n",
              "       [53.42680403],\n",
              "       [61.53035803],\n",
              "       [47.47563963],\n",
              "       [59.81320787],\n",
              "       [55.14218841],\n",
              "       [52.21179669],\n",
              "       [39.29956669],\n",
              "       [48.10504169],\n",
              "       [52.55001444],\n",
              "       [45.41973014],\n",
              "       [54.35163488],\n",
              "       [44.1640495 ],\n",
              "       [58.16847072],\n",
              "       [56.72720806],\n",
              "       [48.95588857],\n",
              "       [44.68719623],\n",
              "       [60.29732685],\n",
              "       [45.61864377],\n",
              "       [38.81681754],\n",
              "       [66.18981661],\n",
              "       [65.41605175],\n",
              "       [47.48120861],\n",
              "       [41.57564262],\n",
              "       [51.84518691],\n",
              "       [59.37082201],\n",
              "       [57.31000344],\n",
              "       [63.61556125],\n",
              "       [46.73761941],\n",
              "       [50.55676015],\n",
              "       [52.22399609],\n",
              "       [35.56783005],\n",
              "       [42.43647694],\n",
              "       [58.16454011],\n",
              "       [57.50444762],\n",
              "       [45.44053073],\n",
              "       [61.89622268],\n",
              "       [33.09383174],\n",
              "       [36.43600951],\n",
              "       [37.67565486],\n",
              "       [44.55560838],\n",
              "       [43.31828263],\n",
              "       [50.07314563],\n",
              "       [43.87061265],\n",
              "       [62.99748075],\n",
              "       [32.66904376],\n",
              "       [40.16689901],\n",
              "       [53.57507753],\n",
              "       [33.86421497],\n",
              "       [64.70713867],\n",
              "       [38.11982403],\n",
              "       [44.50253806],\n",
              "       [40.59953838],\n",
              "       [41.72067636],\n",
              "       [51.08863468],\n",
              "       [55.0780959 ],\n",
              "       [41.37772653],\n",
              "       [62.49469743],\n",
              "       [49.20388754],\n",
              "       [41.10268519],\n",
              "       [41.18201611],\n",
              "       [50.18638949],\n",
              "       [52.37844622],\n",
              "       [50.13548549],\n",
              "       [33.64470601],\n",
              "       [39.55790122],\n",
              "       [56.13038882],\n",
              "       [57.36205213],\n",
              "       [60.26921439],\n",
              "       [35.67809389],\n",
              "       [31.588117  ],\n",
              "       [53.66093226],\n",
              "       [46.68222865],\n",
              "       [43.10782022],\n",
              "       [70.34607562],\n",
              "       [44.49285588],\n",
              "       [57.5045333 ],\n",
              "       [36.93007661],\n",
              "       [55.80573336],\n",
              "       [38.95476907],\n",
              "       [56.9012147 ],\n",
              "       [56.86890066],\n",
              "       [34.3331247 ],\n",
              "       [59.04974121],\n",
              "       [57.78822399],\n",
              "       [54.28232871],\n",
              "       [51.0887199 ],\n",
              "       [50.28283635],\n",
              "       [44.21174175],\n",
              "       [38.00548801],\n",
              "       [32.94047994],\n",
              "       [53.69163957],\n",
              "       [68.76573427],\n",
              "       [46.2309665 ],\n",
              "       [68.31936082],\n",
              "       [50.03017434],\n",
              "       [49.23976534],\n",
              "       [50.03957594],\n",
              "       [48.14985889],\n",
              "       [25.12848465]])"
            ]
          },
          "metadata": {},
          "execution_count": 110
        }
      ]
    },
    {
      "cell_type": "code",
      "metadata": {
        "colab": {
          "base_uri": "https://localhost:8080/"
        },
        "id": "_l_BD2Gx5ExK",
        "outputId": "6638920d-7f33-4c31-9db0-0b67a84c71a9"
      },
      "source": [
        "y"
      ],
      "execution_count": null,
      "outputs": [
        {
          "output_type": "execute_result",
          "data": {
            "text/plain": [
              "array([31.70700585, 68.77759598, 62.5623823 , 71.54663223, 87.23092513,\n",
              "       78.21151827, 79.64197305, 59.17148932, 75.3312423 , 71.30087989,\n",
              "       55.16567715, 82.47884676, 62.00892325, 75.39287043, 81.43619216,\n",
              "       60.72360244, 82.89250373, 97.37989686, 48.84715332, 56.87721319,\n",
              "       83.87856466, 98.5912173 , 57.25181946, 51.39174408, 75.38065167,\n",
              "       74.76556403, 95.45505292, 95.22936602, 79.05240617, 83.43207142,\n",
              "       63.35879032, 41.4128853 , 76.61734128, 96.76956643, 74.08413012,\n",
              "       66.58814441, 77.76848242, 50.71958891, 62.12457082, 60.81024665,\n",
              "       52.68298337, 58.56982472, 82.90598149, 61.4247098 , 95.2441528 ,\n",
              "       45.57058882, 54.0840548 , 87.99445276, 52.72549438, 93.57611869,\n",
              "       80.16627545, 65.10171157, 65.56230126, 65.28088692, 73.43464155,\n",
              "       71.13972786, 79.10282968, 86.52053844, 84.74269781, 59.35885025,\n",
              "       61.68403752, 69.84760416, 86.09829121, 59.10883927, 69.89968164,\n",
              "       44.86249071, 85.49806778, 95.53668685, 70.25193442, 52.72173496,\n",
              "       50.39267014, 63.64239878, 72.24725107, 57.81251298, 94.25710159,\n",
              "       86.64202032, 91.486778  , 55.23166089, 79.55043668, 44.84712424,\n",
              "       80.20752314, 83.14274979, 55.72348926, 77.63418251, 99.05141484,\n",
              "       79.12064627, 69.58889785, 69.51050331, 73.68756432, 61.36690454,\n",
              "       67.17065577, 85.66820315, 94.85387123, 90.12357207, 97.91982104,\n",
              "       81.53699078, 72.11183247, 85.23200734, 66.22495789, 53.45439421])"
            ]
          },
          "metadata": {},
          "execution_count": 111
        }
      ]
    },
    {
      "cell_type": "markdown",
      "metadata": {
        "id": "G4t1DLqr0P8n"
      },
      "source": [
        "# Splitting the data"
      ]
    },
    {
      "cell_type": "code",
      "metadata": {
        "id": "empFkn4a0PYI"
      },
      "source": [
        "X_train,X_test,y_train,y_test = train_test_split(X,y,test_size=0.2,random_state=1)"
      ],
      "execution_count": null,
      "outputs": []
    },
    {
      "cell_type": "code",
      "metadata": {
        "colab": {
          "base_uri": "https://localhost:8080/"
        },
        "id": "3zaO9-rzzzCS",
        "outputId": "4059009b-8acc-4e97-aadc-b4dec269ba96"
      },
      "source": [
        "len(X_train)"
      ],
      "execution_count": null,
      "outputs": [
        {
          "output_type": "execute_result",
          "data": {
            "text/plain": [
              "80"
            ]
          },
          "metadata": {},
          "execution_count": 122
        }
      ]
    },
    {
      "cell_type": "code",
      "metadata": {
        "colab": {
          "base_uri": "https://localhost:8080/"
        },
        "id": "UWyiQM7Hzy6f",
        "outputId": "bdb1826a-0d62-459a-86fa-198b93898959"
      },
      "source": [
        "len(X_test)"
      ],
      "execution_count": null,
      "outputs": [
        {
          "output_type": "execute_result",
          "data": {
            "text/plain": [
              "20"
            ]
          },
          "metadata": {},
          "execution_count": 114
        }
      ]
    },
    {
      "cell_type": "code",
      "metadata": {
        "colab": {
          "base_uri": "https://localhost:8080/"
        },
        "id": "LR0iSlGYzy3m",
        "outputId": "91cd43d7-b013-46e0-b4b9-85c87d51e5e7"
      },
      "source": [
        "len(y_train)"
      ],
      "execution_count": null,
      "outputs": [
        {
          "output_type": "execute_result",
          "data": {
            "text/plain": [
              "80"
            ]
          },
          "metadata": {},
          "execution_count": 115
        }
      ]
    },
    {
      "cell_type": "code",
      "metadata": {
        "colab": {
          "base_uri": "https://localhost:8080/"
        },
        "id": "l9eAjdWAzyze",
        "outputId": "4c8a2526-59ff-41ec-b3f0-0cbc0af1f7e1"
      },
      "source": [
        "len(y_test)"
      ],
      "execution_count": null,
      "outputs": [
        {
          "output_type": "execute_result",
          "data": {
            "text/plain": [
              "20"
            ]
          },
          "metadata": {},
          "execution_count": 116
        }
      ]
    },
    {
      "cell_type": "markdown",
      "metadata": {
        "id": "4jaHmsva0-Q4"
      },
      "source": [
        "# Model Selection - LinearRegression"
      ]
    },
    {
      "cell_type": "code",
      "metadata": {
        "id": "kQW5dwPXzyx-"
      },
      "source": [
        "model = LinearRegression()"
      ],
      "execution_count": null,
      "outputs": []
    },
    {
      "cell_type": "markdown",
      "metadata": {
        "id": "Bxq4sCCV1HPv"
      },
      "source": [
        "# Fitting/train the data"
      ]
    },
    {
      "cell_type": "code",
      "metadata": {
        "colab": {
          "base_uri": "https://localhost:8080/"
        },
        "id": "4UGPd9RQzyty",
        "outputId": "f7394919-630b-40bc-ae66-3a8a13796812"
      },
      "source": [
        "model.fit(X_train,y_train)"
      ],
      "execution_count": null,
      "outputs": [
        {
          "output_type": "execute_result",
          "data": {
            "text/plain": [
              "LinearRegression(copy_X=True, fit_intercept=True, n_jobs=None, normalize=False)"
            ]
          },
          "metadata": {},
          "execution_count": 134
        }
      ]
    },
    {
      "cell_type": "code",
      "metadata": {
        "colab": {
          "base_uri": "https://localhost:8080/"
        },
        "id": "ldCErpX614n7",
        "outputId": "4dc47777-ea7c-48c4-b77a-9b2edd595323"
      },
      "source": [
        "model.intercept_"
      ],
      "execution_count": null,
      "outputs": [
        {
          "output_type": "execute_result",
          "data": {
            "text/plain": [
              "16.25446784809329"
            ]
          },
          "metadata": {},
          "execution_count": 135
        }
      ]
    },
    {
      "cell_type": "code",
      "metadata": {
        "colab": {
          "base_uri": "https://localhost:8080/"
        },
        "id": "bgXDkClK2cXr",
        "outputId": "972b49d2-6b21-4c5b-dc83-31f35d1cc5f1"
      },
      "source": [
        "model.coef_"
      ],
      "execution_count": null,
      "outputs": [
        {
          "output_type": "execute_result",
          "data": {
            "text/plain": [
              "array([1.12752619])"
            ]
          },
          "metadata": {},
          "execution_count": 136
        }
      ]
    },
    {
      "cell_type": "markdown",
      "metadata": {
        "id": "1sJTE0y41X_M"
      },
      "source": [
        "# Prediction"
      ]
    },
    {
      "cell_type": "code",
      "metadata": {
        "id": "NsWhO6tOzysc"
      },
      "source": [
        "y_pred = model.predict(X_test)"
      ],
      "execution_count": null,
      "outputs": []
    },
    {
      "cell_type": "code",
      "metadata": {
        "colab": {
          "base_uri": "https://localhost:8080/"
        },
        "id": "ibVMpMWjzyoY",
        "outputId": "bf45d674-6733-425b-ac1b-9136e48f8343"
      },
      "source": [
        "y_pred"
      ],
      "execution_count": null,
      "outputs": [
        {
          "output_type": "execute_result",
          "data": {
            "text/plain": [
              "array([80.41207787, 81.41220408, 81.83651036, 80.37564294, 68.38109353,\n",
              "       84.24128327, 86.0440802 , 54.96596525, 56.48245325, 60.85703764,\n",
              "       93.78963446, 58.73475556, 62.90893834, 62.03151082, 66.43224519,\n",
              "       64.10270716, 56.35812788, 87.28577752, 79.17689396, 67.46640328])"
            ]
          },
          "metadata": {},
          "execution_count": 138
        }
      ]
    },
    {
      "cell_type": "code",
      "metadata": {
        "colab": {
          "base_uri": "https://localhost:8080/"
        },
        "id": "VISjAAoLzymz",
        "outputId": "b8f46d3e-4cc7-4d8c-ed9b-4c37736ed7ae"
      },
      "source": [
        "y_test"
      ],
      "execution_count": null,
      "outputs": [
        {
          "output_type": "execute_result",
          "data": {
            "text/plain": [
              "array([80.20752314, 99.05141484, 96.76956643, 83.14274979, 90.12357207,\n",
              "       97.37989686, 77.76848242, 55.72348926, 52.72173496, 44.86249071,\n",
              "       94.85387123, 60.81024665, 79.10282968, 65.56230126, 65.10171157,\n",
              "       76.61734128, 41.4128853 , 95.2441528 , 79.55043668, 55.16567715])"
            ]
          },
          "metadata": {},
          "execution_count": 139
        }
      ]
    },
    {
      "cell_type": "markdown",
      "metadata": {
        "id": "-kSzaUUh24yE"
      },
      "source": [
        "# Testing the model"
      ]
    },
    {
      "cell_type": "code",
      "metadata": {
        "colab": {
          "base_uri": "https://localhost:8080/"
        },
        "id": "y-d66oZnzyjF",
        "outputId": "06e31a56-3f6d-44da-aec6-ca143f0d17bd"
      },
      "source": [
        "model.score(X_test,y_test)"
      ],
      "execution_count": null,
      "outputs": [
        {
          "output_type": "execute_result",
          "data": {
            "text/plain": [
              "0.625096040084407"
            ]
          },
          "metadata": {},
          "execution_count": 140
        }
      ]
    },
    {
      "cell_type": "code",
      "metadata": {
        "colab": {
          "base_uri": "https://localhost:8080/"
        },
        "id": "TapvUcFtzyhL",
        "outputId": "21f211c0-5ef8-4b50-a366-731189cffa3b"
      },
      "source": [
        "r2_score(y_test,y_pred)"
      ],
      "execution_count": null,
      "outputs": [
        {
          "output_type": "execute_result",
          "data": {
            "text/plain": [
              "0.625096040084407"
            ]
          },
          "metadata": {},
          "execution_count": 141
        }
      ]
    },
    {
      "cell_type": "code",
      "metadata": {
        "colab": {
          "base_uri": "https://localhost:8080/"
        },
        "id": "ck_NaElq3T_b",
        "outputId": "36d1f2d6-ff70-4378-929b-d75bc3c56f4c"
      },
      "source": [
        "mean_absolute_error(y_test,y_pred)"
      ],
      "execution_count": null,
      "outputs": [
        {
          "output_type": "execute_result",
          "data": {
            "text/plain": [
              "8.575043581614436"
            ]
          },
          "metadata": {},
          "execution_count": 142
        }
      ]
    },
    {
      "cell_type": "code",
      "metadata": {
        "colab": {
          "base_uri": "https://localhost:8080/"
        },
        "id": "gqjTi6-G3cdy",
        "outputId": "420f6daa-71ed-4980-b000-f77667549fff"
      },
      "source": [
        "mean_squared_error(y_test,y_pred)"
      ],
      "execution_count": null,
      "outputs": [
        {
          "output_type": "execute_result",
          "data": {
            "text/plain": [
              "120.14508679930717"
            ]
          },
          "metadata": {},
          "execution_count": 143
        }
      ]
    },
    {
      "cell_type": "code",
      "metadata": {
        "colab": {
          "base_uri": "https://localhost:8080/",
          "height": 312
        },
        "id": "HyprZf2a7K4q",
        "outputId": "81999dc0-1351-4a7c-91d4-e2f5e399e199"
      },
      "source": [
        "plt.scatter(y_test,y_pred)\n",
        "plt.xlabel('Actual Marks')\n",
        "plt.ylabel('Predicted Marks')\n",
        "plt.title('Actual Marks V/s Predicted Marks')"
      ],
      "execution_count": null,
      "outputs": [
        {
          "output_type": "execute_result",
          "data": {
            "text/plain": [
              "Text(0.5, 1.0, 'Actual Marks V/s Predicted Marks')"
            ]
          },
          "metadata": {},
          "execution_count": 166
        },
        {
          "output_type": "display_data",
          "data": {
            "image/png": "[encoded data removed]",
            "text/plain": [
              "<Figure size 432x288 with 1 Axes>"
            ]
          },
          "metadata": {
            "needs_background": "light"
          }
        }
      ]
    },
    {
      "cell_type": "markdown",
      "metadata": {
        "id": "V3sV4B3x3mM8"
      },
      "source": [
        "#  Model Selection - SVR\n",
        "\n"
      ]
    },
    {
      "cell_type": "code",
      "metadata": {
        "id": "TsrlUUcf3j4b"
      },
      "source": [
        "model1 = SVR(kernel='rbf')"
      ],
      "execution_count": null,
      "outputs": []
    },
    {
      "cell_type": "markdown",
      "metadata": {
        "id": "U2XPA84MDbpc"
      },
      "source": [
        "# Splitting"
      ]
    },
    {
      "cell_type": "code",
      "metadata": {
        "id": "E6LzdLPq3jnt"
      },
      "source": [
        "U_train,U_test,v_train,v_test = train_test_split(X,y,test_size=0.2,random_state=1)"
      ],
      "execution_count": null,
      "outputs": []
    },
    {
      "cell_type": "code",
      "metadata": {
        "colab": {
          "base_uri": "https://localhost:8080/"
        },
        "id": "zHxfyL3T3jfD",
        "outputId": "3a976d5e-3917-4050-a67b-f31cd52a2d28"
      },
      "source": [
        "len(U_train)"
      ],
      "execution_count": null,
      "outputs": [
        {
          "output_type": "execute_result",
          "data": {
            "text/plain": [
              "80"
            ]
          },
          "metadata": {},
          "execution_count": 154
        }
      ]
    },
    {
      "cell_type": "code",
      "metadata": {
        "colab": {
          "base_uri": "https://localhost:8080/"
        },
        "id": "rmloFbU33jcK",
        "outputId": "11c61d53-6bb9-4a9a-a733-fccf88b330a4"
      },
      "source": [
        "len(U_test)"
      ],
      "execution_count": null,
      "outputs": [
        {
          "output_type": "execute_result",
          "data": {
            "text/plain": [
              "20"
            ]
          },
          "metadata": {},
          "execution_count": 155
        }
      ]
    },
    {
      "cell_type": "code",
      "metadata": {
        "colab": {
          "base_uri": "https://localhost:8080/"
        },
        "id": "LuUveA6i3jSu",
        "outputId": "c8da2367-78d0-4099-fa1a-b6a754284740"
      },
      "source": [
        "len(v_train)"
      ],
      "execution_count": null,
      "outputs": [
        {
          "output_type": "execute_result",
          "data": {
            "text/plain": [
              "80"
            ]
          },
          "metadata": {},
          "execution_count": 156
        }
      ]
    },
    {
      "cell_type": "code",
      "metadata": {
        "colab": {
          "base_uri": "https://localhost:8080/"
        },
        "id": "Y8-f2ORA3jOg",
        "outputId": "1a3fabd8-f0cc-412c-9c19-b75d399cf365"
      },
      "source": [
        "len(v_test)"
      ],
      "execution_count": null,
      "outputs": [
        {
          "output_type": "execute_result",
          "data": {
            "text/plain": [
              "20"
            ]
          },
          "metadata": {},
          "execution_count": 157
        }
      ]
    },
    {
      "cell_type": "markdown",
      "metadata": {
        "id": "UmBATxY2DgJS"
      },
      "source": [
        "# Fitting"
      ]
    },
    {
      "cell_type": "code",
      "metadata": {
        "colab": {
          "base_uri": "https://localhost:8080/"
        },
        "id": "QwX8u3bJ3jME",
        "outputId": "ed03df0f-3233-4609-b60c-60caa9da2371"
      },
      "source": [
        "model1.fit(U_train,v_train)"
      ],
      "execution_count": null,
      "outputs": [
        {
          "output_type": "execute_result",
          "data": {
            "text/plain": [
              "SVR(C=1.0, cache_size=200, coef0=0.0, degree=3, epsilon=0.1, gamma='scale',\n",
              "    kernel='rbf', max_iter=-1, shrinking=True, tol=0.001, verbose=False)"
            ]
          },
          "metadata": {},
          "execution_count": 158
        }
      ]
    },
    {
      "cell_type": "markdown",
      "metadata": {
        "id": "VyBuWrNUDm4t"
      },
      "source": [
        "# Prediction"
      ]
    },
    {
      "cell_type": "code",
      "metadata": {
        "id": "29nyjh-Q6SSb"
      },
      "source": [
        "y_pred1 = model1.predict(U_test)"
      ],
      "execution_count": null,
      "outputs": []
    },
    {
      "cell_type": "code",
      "metadata": {
        "colab": {
          "base_uri": "https://localhost:8080/"
        },
        "id": "uEeoALe16czi",
        "outputId": "c5288855-e8e2-45c4-839e-893c34c76b0b"
      },
      "source": [
        "y_pred1"
      ],
      "execution_count": null,
      "outputs": [
        {
          "output_type": "execute_result",
          "data": {
            "text/plain": [
              "array([77.12833601, 77.33818573, 77.40818091, 77.11939861, 67.68248736,\n",
              "       77.63259556, 77.64596682, 62.2889095 , 61.79478068, 61.74226758,\n",
              "       76.18406685, 61.46371529, 62.64686835, 62.18188133, 65.56460817,\n",
              "       63.4602303 , 61.82833569, 77.58630212, 76.76827737, 66.66208786])"
            ]
          },
          "metadata": {},
          "execution_count": 160
        }
      ]
    },
    {
      "cell_type": "code",
      "metadata": {
        "colab": {
          "base_uri": "https://localhost:8080/"
        },
        "id": "30Tw5Ipk6cvD",
        "outputId": "a2b9e800-42c9-4329-bac7-8feedeaec1ad"
      },
      "source": [
        "U_test"
      ],
      "execution_count": null,
      "outputs": [
        {
          "output_type": "execute_result",
          "data": {
            "text/plain": [
              "array([[56.9012147 ],\n",
              "       [57.78822399],\n",
              "       [58.16454011],\n",
              "       [56.86890066],\n",
              "       [46.2309665 ],\n",
              "       [60.29732685],\n",
              "       [61.89622268],\n",
              "       [34.3331247 ],\n",
              "       [35.67809389],\n",
              "       [39.55790122],\n",
              "       [68.76573427],\n",
              "       [37.67565486],\n",
              "       [41.37772653],\n",
              "       [40.59953838],\n",
              "       [44.50253806],\n",
              "       [42.43647694],\n",
              "       [35.56783005],\n",
              "       [62.99748075],\n",
              "       [55.80573336],\n",
              "       [45.41973014]])"
            ]
          },
          "metadata": {},
          "execution_count": 161
        }
      ]
    },
    {
      "cell_type": "markdown",
      "metadata": {
        "id": "CsOCGoYTDrUw"
      },
      "source": [
        "# Testing"
      ]
    },
    {
      "cell_type": "code",
      "metadata": {
        "colab": {
          "base_uri": "https://localhost:8080/"
        },
        "id": "tX0o9mGE6csJ",
        "outputId": "5be28ec3-ccb9-47bb-d088-2d682d6921d3"
      },
      "source": [
        "model.score(U_test,v_test)"
      ],
      "execution_count": null,
      "outputs": [
        {
          "output_type": "execute_result",
          "data": {
            "text/plain": [
              "0.625096040084407"
            ]
          },
          "metadata": {},
          "execution_count": 162
        }
      ]
    },
    {
      "cell_type": "code",
      "metadata": {
        "colab": {
          "base_uri": "https://localhost:8080/"
        },
        "id": "a8sbk4ib6cjb",
        "outputId": "4252df9b-f90f-48d4-de82-5b6d7b7e7fed"
      },
      "source": [
        "r2_score(v_test,y_pred1)"
      ],
      "execution_count": null,
      "outputs": [
        {
          "output_type": "execute_result",
          "data": {
            "text/plain": [
              "0.3963454248795293"
            ]
          },
          "metadata": {},
          "execution_count": 167
        }
      ]
    },
    {
      "cell_type": "code",
      "metadata": {
        "colab": {
          "base_uri": "https://localhost:8080/"
        },
        "id": "q9TcUA6J6cgz",
        "outputId": "7b7b1149-e20e-4677-e75a-856095da6844"
      },
      "source": [
        "mean_absolute_error(v_test,y_pred1)"
      ],
      "execution_count": null,
      "outputs": [
        {
          "output_type": "execute_result",
          "data": {
            "text/plain": [
              "11.506891517821995"
            ]
          },
          "metadata": {},
          "execution_count": 168
        }
      ]
    },
    {
      "cell_type": "code",
      "metadata": {
        "colab": {
          "base_uri": "https://localhost:8080/"
        },
        "id": "5CzQ-oBp6cbN",
        "outputId": "aeebfe45-4b70-4e9a-fbca-ae0789b815ac"
      },
      "source": [
        "mean_squared_error(v_test,y_pred1)"
      ],
      "execution_count": null,
      "outputs": [
        {
          "output_type": "execute_result",
          "data": {
            "text/plain": [
              "193.45256139992915"
            ]
          },
          "metadata": {},
          "execution_count": 169
        }
      ]
    },
    {
      "cell_type": "code",
      "metadata": {
        "colab": {
          "base_uri": "https://localhost:8080/",
          "height": 312
        },
        "id": "fShmbL-v7TUP",
        "outputId": "f52a20a7-a4ce-4b8a-ea9d-28daab9fe99b"
      },
      "source": [
        "plt.scatter(v_test,y_pred1)\n",
        "plt.xlabel('Actual Marks')\n",
        "plt.ylabel('Predicted Marks')\n",
        "plt.title('Actual Marks V/s Predicted Marks')"
      ],
      "execution_count": null,
      "outputs": [
        {
          "output_type": "execute_result",
          "data": {
            "text/plain": [
              "Text(0.5, 1.0, 'Actual Marks V/s Predicted Marks')"
            ]
          },
          "metadata": {},
          "execution_count": 170
        },
        {
          "output_type": "display_data",
          "data": {
            "image/png": "[encoded data removed]",
            "text/plain": [
              "<Figure size 432x288 with 1 Axes>"
            ]
          },
          "metadata": {
            "needs_background": "light"
          }
        }
      ]
    },
    {
      "cell_type": "markdown",
      "metadata": {
        "id": "caBwlPqSxx_W"
      },
      "source": [
        "# Feature Scalling\n",
        "  --> Standardization\n",
        "  \n",
        "  --> Normalisation"
      ]
    },
    {
      "cell_type": "code",
      "metadata": {
        "id": "crNr-nfPyvd2"
      },
      "source": [
        "stand = StandardScaler()"
      ],
      "execution_count": null,
      "outputs": []
    },
    {
      "cell_type": "code",
      "metadata": {
        "id": "DqhiBUKGy5O0"
      },
      "source": [
        "X = stand.fit_transform(X.reshape(-1,1))\n",
        "y = stand.fit_transform(y.reshape(-1,1))"
      ],
      "execution_count": null,
      "outputs": []
    },
    {
      "cell_type": "code",
      "metadata": {
        "colab": {
          "base_uri": "https://localhost:8080/"
        },
        "id": "13GwHhP7zRrl",
        "outputId": "3d5d8987-5f20-41f3-e061-d9b5b807dda9"
      },
      "source": [
        "X"
      ],
      "execution_count": null,
      "outputs": [
        {
          "output_type": "execute_result",
          "data": {
            "text/plain": [
              "array([[-1.69692744e+00],\n",
              "       [ 4.60783817e-01],\n",
              "       [ 1.29641497e+00],\n",
              "       [-1.52894871e-01],\n",
              "       [ 1.11934400e+00],\n",
              "       [ 6.37672702e-01],\n",
              "       [ 3.35493359e-01],\n",
              "       [-9.96004115e-01],\n",
              "       [-8.79915004e-02],\n",
              "       [ 3.70370068e-01],\n",
              "       [-3.64898398e-01],\n",
              "       [ 5.56151537e-01],\n",
              "       [-4.94383049e-01],\n",
              "       [ 9.49740196e-01],\n",
              "       [ 8.01118494e-01],\n",
              "       [-2.52939962e-04],\n",
              "       [-4.40436632e-01],\n",
              "       [ 1.16926591e+00],\n",
              "       [-3.44386604e-01],\n",
              "       [-1.04578477e+00],\n",
              "       [ 1.77689413e+00],\n",
              "       [ 1.69710419e+00],\n",
              "       [-1.52320603e-01],\n",
              "       [-7.61297225e-01],\n",
              "       [ 2.97688891e-01],\n",
              "       [ 1.07372557e+00],\n",
              "       [ 8.61215827e-01],\n",
              "       [ 1.51143924e+00],\n",
              "       [-2.28998849e-01],\n",
              "       [ 1.64827489e-01],\n",
              "       [ 3.36751351e-01],\n",
              "       [-1.38081742e+00],\n",
              "       [-6.72528769e-01],\n",
              "       [ 9.49334875e-01],\n",
              "       [ 8.81266735e-01],\n",
              "       [-3.62753460e-01],\n",
              "       [ 1.33414261e+00],\n",
              "       [-1.63593389e+00],\n",
              "       [-1.29129154e+00],\n",
              "       [-1.16346043e+00],\n",
              "       [-4.54005852e-01],\n",
              "       [-5.81597764e-01],\n",
              "       [ 1.14957597e-01],\n",
              "       [-5.24641992e-01],\n",
              "       [ 1.44770334e+00],\n",
              "       [-1.67973764e+00],\n",
              "       [-9.06565591e-01],\n",
              "       [ 4.76073646e-01],\n",
              "       [-1.55649267e+00],\n",
              "       [ 1.62400172e+00],\n",
              "       [-1.11765811e+00],\n",
              "       [-4.59478415e-01],\n",
              "       [-8.61952211e-01],\n",
              "       [-7.46341477e-01],\n",
              "       [ 2.19673909e-01],\n",
              "       [ 6.31063541e-01],\n",
              "       [-7.81706153e-01],\n",
              "       [ 1.39585678e+00],\n",
              "       [ 2.53204894e-02],\n",
              "       [-8.10068167e-01],\n",
              "       [-8.01887634e-01],\n",
              "       [ 1.26635202e-01],\n",
              "       [ 3.52678108e-01],\n",
              "       [ 1.21386027e-01],\n",
              "       [-1.57912823e+00],\n",
              "       [-9.69364892e-01],\n",
              "       [ 7.39575034e-01],\n",
              "       [ 8.66583041e-01],\n",
              "       [ 1.16636698e+00],\n",
              "       [-1.36944711e+00],\n",
              "       [-1.79120183e+00],\n",
              "       [ 4.84926908e-01],\n",
              "       [-2.34710694e-01],\n",
              "       [-6.03300457e-01],\n",
              "       [ 2.20548379e+00],\n",
              "       [-4.60476833e-01],\n",
              "       [ 8.81275570e-01],\n",
              "       [-1.24034379e+00],\n",
              "       [ 7.06096857e-01],\n",
              "       [-1.03155933e+00],\n",
              "       [ 8.19061902e-01],\n",
              "       [ 8.15729707e-01],\n",
              "       [-1.50813912e+00],\n",
              "       [ 1.04061601e+00],\n",
              "       [ 9.10529497e-01],\n",
              "       [ 5.49004748e-01],\n",
              "       [ 2.19682697e-01],\n",
              "       [ 1.36580714e-01],\n",
              "       [-4.89465068e-01],\n",
              "       [-1.12944834e+00],\n",
              "       [-1.65174739e+00],\n",
              "       [ 4.88093418e-01],\n",
              "       [ 2.04252042e+00],\n",
              "       [-2.81244438e-01],\n",
              "       [ 1.99649080e+00],\n",
              "       [ 1.10526437e-01],\n",
              "       [ 2.90201757e-02],\n",
              "       [ 1.11495921e-01],\n",
              "       [-8.33699913e-02],\n",
              "       [-2.45731327e+00]])"
            ]
          },
          "metadata": {},
          "execution_count": 178
        }
      ]
    },
    {
      "cell_type": "code",
      "metadata": {
        "colab": {
          "base_uri": "https://localhost:8080/"
        },
        "id": "fXoBZYvpzclH",
        "outputId": "e7f55e79-88be-4ba1-fab4-2b7ee0da86ab"
      },
      "source": [
        "y"
      ],
      "execution_count": null,
      "outputs": [
        {
          "output_type": "execute_result",
          "data": {
            "text/plain": [
              "array([[-2.66651176],\n",
              "       [-0.21538463],\n",
              "       [-0.62633786],\n",
              "       [-0.03229448],\n",
              "       [ 1.00475931],\n",
              "       [ 0.40839133],\n",
              "       [ 0.50297376],\n",
              "       [-0.85054551],\n",
              "       [ 0.21794595],\n",
              "       [-0.04854375],\n",
              "       [-1.11541194],\n",
              "       [ 0.69054936],\n",
              "       [-0.66293287],\n",
              "       [ 0.22202084],\n",
              "       [ 0.62160848],\n",
              "       [-0.74791896],\n",
              "       [ 0.71790058],\n",
              "       [ 1.67581471],\n",
              "       [-1.5331961 ],\n",
              "       [-1.00224427],\n",
              "       [ 0.78309945],\n",
              "       [ 1.75590787],\n",
              "       [-0.9774751 ],\n",
              "       [-1.3649464 ],\n",
              "       [ 0.22121292],\n",
              "       [ 0.180543  ],\n",
              "       [ 1.54854301],\n",
              "       [ 1.53362047],\n",
              "       [ 0.46399128],\n",
              "       [ 0.75357708],\n",
              "       [-0.57367894],\n",
              "       [-2.02475385],\n",
              "       [ 0.3029835 ],\n",
              "       [ 1.63545934],\n",
              "       [ 0.13548623],\n",
              "       [-0.36015233],\n",
              "       [ 0.37909756],\n",
              "       [-1.40938966],\n",
              "       [-0.65528619],\n",
              "       [-0.74219   ],\n",
              "       [-1.27956897],\n",
              "       [-0.89032789],\n",
              "       [ 0.71879173],\n",
              "       [-0.70156137],\n",
              "       [ 1.53459818],\n",
              "       [-1.74984428],\n",
              "       [-1.18692938],\n",
              "       [ 1.05524416],\n",
              "       [-1.27675812],\n",
              "       [ 1.42430688],\n",
              "       [ 0.53764091],\n",
              "       [-0.45843606],\n",
              "       [-0.42798163],\n",
              "       [-0.44658889],\n",
              "       [ 0.0925417 ],\n",
              "       [-0.05919921],\n",
              "       [ 0.46732531],\n",
              "       [ 0.95778816],\n",
              "       [ 0.84023639],\n",
              "       [-0.8381571 ],\n",
              "       [-0.68441449],\n",
              "       [-0.14463512],\n",
              "       [ 0.92986895],\n",
              "       [-0.85468796],\n",
              "       [-0.14119173],\n",
              "       [-1.79666411],\n",
              "       [ 0.89018186],\n",
              "       [ 1.55394069],\n",
              "       [-0.11790059],\n",
              "       [-1.2770067 ],\n",
              "       [-1.4310057 ],\n",
              "       [-0.5549266 ],\n",
              "       [ 0.01403081],\n",
              "       [-0.94040175],\n",
              "       [ 1.46933383],\n",
              "       [ 0.96582061],\n",
              "       [ 1.28615856],\n",
              "       [-1.11104906],\n",
              "       [ 0.49692133],\n",
              "       [-1.79768014],\n",
              "       [ 0.54036823],\n",
              "       [ 0.73444698],\n",
              "       [-1.07852911],\n",
              "       [ 0.37021758],\n",
              "       [ 1.78633637],\n",
              "       [ 0.46850336],\n",
              "       [-0.16174092],\n",
              "       [-0.16692441],\n",
              "       [ 0.10926509],\n",
              "       [-0.70538349],\n",
              "       [-0.32163637],\n",
              "       [ 0.9014313 ],\n",
              "       [ 1.50879256],\n",
              "       [ 1.19602266],\n",
              "       [ 1.71151479],\n",
              "       [ 0.62827334],\n",
              "       [ 0.00507686],\n",
              "       [ 0.8725898 ],\n",
              "       [-0.38416642],\n",
              "       [-1.22856288]])"
            ]
          },
          "metadata": {},
          "execution_count": 179
        }
      ]
    },
    {
      "cell_type": "markdown",
      "metadata": {
        "id": "eZsKR58eEHqY"
      },
      "source": [
        "# Splitting"
      ]
    },
    {
      "cell_type": "code",
      "metadata": {
        "id": "yKlQgbeeze5j"
      },
      "source": [
        "A_train,A_test,b_train,b_test = train_test_split(X,y,test_size=0.2,random_state=1)"
      ],
      "execution_count": null,
      "outputs": []
    },
    {
      "cell_type": "code",
      "metadata": {
        "colab": {
          "base_uri": "https://localhost:8080/"
        },
        "id": "Ow2MhYgu8RsX",
        "outputId": "9daa97c2-722e-4275-eda5-4eb4cbc21ddf"
      },
      "source": [
        "len(A_train)"
      ],
      "execution_count": null,
      "outputs": [
        {
          "output_type": "execute_result",
          "data": {
            "text/plain": [
              "80"
            ]
          },
          "metadata": {},
          "execution_count": 182
        }
      ]
    },
    {
      "cell_type": "code",
      "metadata": {
        "colab": {
          "base_uri": "https://localhost:8080/"
        },
        "id": "Y1hLjDNs82rM",
        "outputId": "111e631b-95ec-45c7-8b85-720df127738e"
      },
      "source": [
        "len(A_test)"
      ],
      "execution_count": null,
      "outputs": [
        {
          "output_type": "execute_result",
          "data": {
            "text/plain": [
              "20"
            ]
          },
          "metadata": {},
          "execution_count": 183
        }
      ]
    },
    {
      "cell_type": "code",
      "metadata": {
        "colab": {
          "base_uri": "https://localhost:8080/"
        },
        "id": "0Vlizscg84Tx",
        "outputId": "99dcbf18-d690-4e0c-9b0a-092cf6698814"
      },
      "source": [
        "len(b_train)"
      ],
      "execution_count": null,
      "outputs": [
        {
          "output_type": "execute_result",
          "data": {
            "text/plain": [
              "80"
            ]
          },
          "metadata": {},
          "execution_count": 184
        }
      ]
    },
    {
      "cell_type": "code",
      "metadata": {
        "colab": {
          "base_uri": "https://localhost:8080/"
        },
        "id": "MD_RRxcY858H",
        "outputId": "f62ad6eb-5a55-41f1-a259-720ae6b88c7c"
      },
      "source": [
        "len(b_test)"
      ],
      "execution_count": null,
      "outputs": [
        {
          "output_type": "execute_result",
          "data": {
            "text/plain": [
              "20"
            ]
          },
          "metadata": {},
          "execution_count": 185
        }
      ]
    },
    {
      "cell_type": "markdown",
      "metadata": {
        "id": "eyK1X0LsEAxm"
      },
      "source": [
        "# Model Selection - LinearRegression"
      ]
    },
    {
      "cell_type": "code",
      "metadata": {
        "id": "fvdfwvdk871R"
      },
      "source": [
        "model2 = LinearRegression()"
      ],
      "execution_count": null,
      "outputs": []
    },
    {
      "cell_type": "markdown",
      "metadata": {
        "id": "alQ3VBSKEK4b"
      },
      "source": [
        "# Fitting"
      ]
    },
    {
      "cell_type": "code",
      "metadata": {
        "colab": {
          "base_uri": "https://localhost:8080/"
        },
        "id": "JCnRKmlt9ByV",
        "outputId": "cc8ae5f7-7ccd-4745-ac73-f68e946d217d"
      },
      "source": [
        "model2.fit(A_train,b_train)"
      ],
      "execution_count": null,
      "outputs": [
        {
          "output_type": "execute_result",
          "data": {
            "text/plain": [
              "LinearRegression(copy_X=True, fit_intercept=True, n_jobs=None, normalize=False)"
            ]
          },
          "metadata": {},
          "execution_count": 187
        }
      ]
    },
    {
      "cell_type": "markdown",
      "metadata": {
        "id": "PWk6q3cjENsN"
      },
      "source": [
        "# Prediction"
      ]
    },
    {
      "cell_type": "code",
      "metadata": {
        "id": "q2LeuC4H9J_l"
      },
      "source": [
        "y_pred2 = model2.predict(A_test)"
      ],
      "execution_count": null,
      "outputs": []
    },
    {
      "cell_type": "code",
      "metadata": {
        "colab": {
          "base_uri": "https://localhost:8080/"
        },
        "id": "PYIDj9LQ9PV7",
        "outputId": "a1fb1aa9-9cd6-40e1-bed3-91f43f4d3a74"
      },
      "source": [
        "y_pred2"
      ],
      "execution_count": null,
      "outputs": [
        {
          "output_type": "execute_result",
          "data": {
            "text/plain": [
              "array([[ 0.5538935 ],\n",
              "       [ 0.62002238],\n",
              "       [ 0.64807773],\n",
              "       [ 0.5514844 ],\n",
              "       [-0.24160158],\n",
              "       [ 0.8070826 ],\n",
              "       [ 0.92628449],\n",
              "       [-1.128617  ],\n",
              "       [-1.028346  ],\n",
              "       [-0.73909616],\n",
              "       [ 1.43842466],\n",
              "       [-0.87942258],\n",
              "       [-0.60342339],\n",
              "       [-0.66143937],\n",
              "       [-0.37046047],\n",
              "       [-0.52449076],\n",
              "       [-1.03656646],\n",
              "       [ 1.00838618],\n",
              "       [ 0.47222248],\n",
              "       [-0.30208139]])"
            ]
          },
          "metadata": {},
          "execution_count": 190
        }
      ]
    },
    {
      "cell_type": "code",
      "metadata": {
        "colab": {
          "base_uri": "https://localhost:8080/"
        },
        "id": "2vxNMPjb9VRz",
        "outputId": "1796adc1-3b1d-41e0-9a18-42ad5aa2c72d"
      },
      "source": [
        "b_test"
      ],
      "execution_count": null,
      "outputs": [
        {
          "output_type": "execute_result",
          "data": {
            "text/plain": [
              "array([[ 0.54036823],\n",
              "       [ 1.78633637],\n",
              "       [ 1.63545934],\n",
              "       [ 0.73444698],\n",
              "       [ 1.19602266],\n",
              "       [ 1.67581471],\n",
              "       [ 0.37909756],\n",
              "       [-1.07852911],\n",
              "       [-1.2770067 ],\n",
              "       [-1.79666411],\n",
              "       [ 1.50879256],\n",
              "       [-0.74219   ],\n",
              "       [ 0.46732531],\n",
              "       [-0.42798163],\n",
              "       [-0.45843606],\n",
              "       [ 0.3029835 ],\n",
              "       [-2.02475385],\n",
              "       [ 1.53459818],\n",
              "       [ 0.49692133],\n",
              "       [-1.11541194]])"
            ]
          },
          "metadata": {},
          "execution_count": 191
        }
      ]
    },
    {
      "cell_type": "markdown",
      "metadata": {
        "id": "DA3oTmIMERM4"
      },
      "source": [
        "# Testing"
      ]
    },
    {
      "cell_type": "code",
      "metadata": {
        "colab": {
          "base_uri": "https://localhost:8080/"
        },
        "id": "r9MAVt9N9W5G",
        "outputId": "bbc90f14-862c-4654-ef6c-5fbc0ba6d8ee"
      },
      "source": [
        "model2.score(A_test,b_test)"
      ],
      "execution_count": null,
      "outputs": [
        {
          "output_type": "execute_result",
          "data": {
            "text/plain": [
              "0.6250960400844071"
            ]
          },
          "metadata": {},
          "execution_count": 192
        }
      ]
    },
    {
      "cell_type": "code",
      "metadata": {
        "colab": {
          "base_uri": "https://localhost:8080/"
        },
        "id": "WNPzfV_49cCz",
        "outputId": "49696db4-b726-4145-8f7e-0cfc21f35e6a"
      },
      "source": [
        "r2_score(b_test,y_pred2)"
      ],
      "execution_count": null,
      "outputs": [
        {
          "output_type": "execute_result",
          "data": {
            "text/plain": [
              "0.6250960400844071"
            ]
          },
          "metadata": {},
          "execution_count": 193
        }
      ]
    },
    {
      "cell_type": "code",
      "metadata": {
        "colab": {
          "base_uri": "https://localhost:8080/"
        },
        "id": "UaxKQVSD9iJp",
        "outputId": "3925f173-b35a-43b8-98bf-23285f9f8832"
      },
      "source": [
        "mean_absolute_error(b_test,y_pred2)"
      ],
      "execution_count": null,
      "outputs": [
        {
          "output_type": "execute_result",
          "data": {
            "text/plain": [
              "0.5669864413684"
            ]
          },
          "metadata": {},
          "execution_count": 194
        }
      ]
    },
    {
      "cell_type": "code",
      "metadata": {
        "colab": {
          "base_uri": "https://localhost:8080/"
        },
        "id": "fjgkcE_O9oiO",
        "outputId": "17fc47e8-330b-4c0c-f2e8-23b6a39ff61b"
      },
      "source": [
        "mean_squared_error(b_test,y_pred2)"
      ],
      "execution_count": null,
      "outputs": [
        {
          "output_type": "execute_result",
          "data": {
            "text/plain": [
              "0.5252652747818947"
            ]
          },
          "metadata": {},
          "execution_count": 195
        }
      ]
    },
    {
      "cell_type": "code",
      "metadata": {
        "colab": {
          "base_uri": "https://localhost:8080/",
          "height": 312
        },
        "id": "lvyOT727_zjC",
        "outputId": "53106c5b-6386-4176-93e2-ef1f8a838b6c"
      },
      "source": [
        "plt.scatter(b_test,y_pred2)\n",
        "plt.xlabel('Actual Marks')\n",
        "plt.ylabel('Predicted Marks')\n",
        "plt.title('Actual Marks V/s Predicted Marks')"
      ],
      "execution_count": null,
      "outputs": [
        {
          "output_type": "execute_result",
          "data": {
            "text/plain": [
              "Text(0.5, 1.0, 'Actual Marks V/s Predicted Marks')"
            ]
          },
          "metadata": {},
          "execution_count": 210
        },
        {
          "output_type": "display_data",
          "data": {
            "image/png": "[encoded data removed]",
            "text/plain": [
              "<Figure size 432x288 with 1 Axes>"
            ]
          },
          "metadata": {
            "needs_background": "light"
          }
        }
      ]
    },
    {
      "cell_type": "markdown",
      "metadata": {
        "id": "XHbTBooYEUCL"
      },
      "source": [
        "# splitting"
      ]
    },
    {
      "cell_type": "code",
      "metadata": {
        "id": "FmE8XCFi9sJ-"
      },
      "source": [
        "C_train,C_test,d_train,d_test = train_test_split(X,y,test_size=0.2,random_state=1)"
      ],
      "execution_count": null,
      "outputs": []
    },
    {
      "cell_type": "code",
      "metadata": {
        "colab": {
          "base_uri": "https://localhost:8080/"
        },
        "id": "0drLoLcv9-TY",
        "outputId": "15f13114-6aa3-4871-9f02-994aac7707ec"
      },
      "source": [
        "len(C_train)"
      ],
      "execution_count": null,
      "outputs": [
        {
          "output_type": "execute_result",
          "data": {
            "text/plain": [
              "80"
            ]
          },
          "metadata": {},
          "execution_count": 197
        }
      ]
    },
    {
      "cell_type": "code",
      "metadata": {
        "colab": {
          "base_uri": "https://localhost:8080/"
        },
        "id": "HLNHi1Kr-Bs2",
        "outputId": "d6ab0f9f-c8e5-4355-da5c-f83b0c8a8c08"
      },
      "source": [
        "len(C_test)"
      ],
      "execution_count": null,
      "outputs": [
        {
          "output_type": "execute_result",
          "data": {
            "text/plain": [
              "20"
            ]
          },
          "metadata": {},
          "execution_count": 198
        }
      ]
    },
    {
      "cell_type": "code",
      "metadata": {
        "colab": {
          "base_uri": "https://localhost:8080/"
        },
        "id": "qO-fQMjL-EsU",
        "outputId": "c8e91209-7ef5-4da1-d7d9-2cd622a9671f"
      },
      "source": [
        "len(d_train)"
      ],
      "execution_count": null,
      "outputs": [
        {
          "output_type": "execute_result",
          "data": {
            "text/plain": [
              "80"
            ]
          },
          "metadata": {},
          "execution_count": 199
        }
      ]
    },
    {
      "cell_type": "code",
      "metadata": {
        "colab": {
          "base_uri": "https://localhost:8080/"
        },
        "id": "bHlDv_0c-GUJ",
        "outputId": "e3ea5663-85bd-466c-9991-055634d4df3a"
      },
      "source": [
        "len(d_test)"
      ],
      "execution_count": null,
      "outputs": [
        {
          "output_type": "execute_result",
          "data": {
            "text/plain": [
              "20"
            ]
          },
          "metadata": {},
          "execution_count": 200
        }
      ]
    },
    {
      "cell_type": "markdown",
      "metadata": {
        "id": "dOeGEw0-EX2T"
      },
      "source": [
        "# Model Selection - SVR"
      ]
    },
    {
      "cell_type": "code",
      "metadata": {
        "id": "WWV9p3PV-Iy-"
      },
      "source": [
        "model3 = SVR(kernel='rbf')"
      ],
      "execution_count": null,
      "outputs": []
    },
    {
      "cell_type": "markdown",
      "metadata": {
        "id": "yqOSyNCLEbPA"
      },
      "source": [
        "# Fitting"
      ]
    },
    {
      "cell_type": "code",
      "metadata": {
        "colab": {
          "base_uri": "https://localhost:8080/"
        },
        "id": "ZAtppnpP-QzX",
        "outputId": "93be7180-2364-4166-8c30-ee860d316cb4"
      },
      "source": [
        "model3.fit(C_train,d_train)"
      ],
      "execution_count": null,
      "outputs": [
        {
          "output_type": "stream",
          "text": [
            "/usr/local/lib/python3.7/dist-packages/sklearn/utils/validation.py:760: DataConversionWarning: A column-vector y was passed when a 1d array was expected. Please change the shape of y to (n_samples, ), for example using ravel().\n",
            "  y = column_or_1d(y, warn=True)\n"
          ],
          "name": "stderr"
        },
        {
          "output_type": "execute_result",
          "data": {
            "text/plain": [
              "SVR(C=1.0, cache_size=200, coef0=0.0, degree=3, epsilon=0.1, gamma='scale',\n",
              "    kernel='rbf', max_iter=-1, shrinking=True, tol=0.001, verbose=False)"
            ]
          },
          "metadata": {},
          "execution_count": 202
        }
      ]
    },
    {
      "cell_type": "markdown",
      "metadata": {
        "id": "57J2T4HhEfTj"
      },
      "source": [
        "# Prediction"
      ]
    },
    {
      "cell_type": "code",
      "metadata": {
        "id": "OEAdj_3Q-ajM"
      },
      "source": [
        "y_pred3 = model3.predict(C_test)"
      ],
      "execution_count": null,
      "outputs": []
    },
    {
      "cell_type": "code",
      "metadata": {
        "colab": {
          "base_uri": "https://localhost:8080/"
        },
        "id": "dSH3DNAu-iMR",
        "outputId": "6fc9948b-d5b6-427e-ea2b-7f5a4f11ca38"
      },
      "source": [
        "y_pred3"
      ],
      "execution_count": null,
      "outputs": [
        {
          "output_type": "execute_result",
          "data": {
            "text/plain": [
              "array([ 0.53068774,  0.58464841,  0.61070192,  0.52889267, -0.3429912 ,\n",
              "        0.80040515,  0.98395476, -1.17516879, -1.08713409, -0.87316807,\n",
              "        1.48185483, -0.9691691 , -0.77539666, -0.81947469, -0.53025657,\n",
              "       -0.70619912, -1.09420197,  1.1190305 ,  0.4745374 , -0.43455754])"
            ]
          },
          "metadata": {},
          "execution_count": 204
        }
      ]
    },
    {
      "cell_type": "code",
      "metadata": {
        "colab": {
          "base_uri": "https://localhost:8080/"
        },
        "id": "TiIeJgX_-kEF",
        "outputId": "7ac593e2-1202-4c54-d3d9-268c3a9fee0a"
      },
      "source": [
        "d_test"
      ],
      "execution_count": null,
      "outputs": [
        {
          "output_type": "execute_result",
          "data": {
            "text/plain": [
              "array([[ 0.54036823],\n",
              "       [ 1.78633637],\n",
              "       [ 1.63545934],\n",
              "       [ 0.73444698],\n",
              "       [ 1.19602266],\n",
              "       [ 1.67581471],\n",
              "       [ 0.37909756],\n",
              "       [-1.07852911],\n",
              "       [-1.2770067 ],\n",
              "       [-1.79666411],\n",
              "       [ 1.50879256],\n",
              "       [-0.74219   ],\n",
              "       [ 0.46732531],\n",
              "       [-0.42798163],\n",
              "       [-0.45843606],\n",
              "       [ 0.3029835 ],\n",
              "       [-2.02475385],\n",
              "       [ 1.53459818],\n",
              "       [ 0.49692133],\n",
              "       [-1.11541194]])"
            ]
          },
          "metadata": {},
          "execution_count": 205
        }
      ]
    },
    {
      "cell_type": "markdown",
      "metadata": {
        "id": "fA3fooGfEig_"
      },
      "source": [
        "# Testing"
      ]
    },
    {
      "cell_type": "code",
      "metadata": {
        "colab": {
          "base_uri": "https://localhost:8080/"
        },
        "id": "nLlryFGM-l84",
        "outputId": "adf7e0bc-fbb9-4ae8-c6b2-b279a31238c5"
      },
      "source": [
        "model3.score(C_test,d_test)"
      ],
      "execution_count": null,
      "outputs": [
        {
          "output_type": "execute_result",
          "data": {
            "text/plain": [
              "0.5998873553338905"
            ]
          },
          "metadata": {},
          "execution_count": 206
        }
      ]
    },
    {
      "cell_type": "code",
      "metadata": {
        "colab": {
          "base_uri": "https://localhost:8080/"
        },
        "id": "GBhytxw_-swC",
        "outputId": "a85585fe-5c3e-4424-a1f9-aa20914422e4"
      },
      "source": [
        "r2_score(d_test,y_pred3)"
      ],
      "execution_count": null,
      "outputs": [
        {
          "output_type": "execute_result",
          "data": {
            "text/plain": [
              "0.5998873553338905"
            ]
          },
          "metadata": {},
          "execution_count": 207
        }
      ]
    },
    {
      "cell_type": "code",
      "metadata": {
        "colab": {
          "base_uri": "https://localhost:8080/"
        },
        "id": "dY2UUGib-0Y-",
        "outputId": "cfcfe779-d744-43a9-d76d-cae364fcb70f"
      },
      "source": [
        "mean_absolute_error(d_test,y_pred3)"
      ],
      "execution_count": null,
      "outputs": [
        {
          "output_type": "execute_result",
          "data": {
            "text/plain": [
              "0.5844731004337038"
            ]
          },
          "metadata": {},
          "execution_count": 208
        }
      ]
    },
    {
      "cell_type": "code",
      "metadata": {
        "colab": {
          "base_uri": "https://localhost:8080/"
        },
        "id": "hxo9vLce_kDH",
        "outputId": "84ea4c19-5265-4397-dc24-109ba9a62d19"
      },
      "source": [
        "mean_squared_error(d_test,y_pred3)"
      ],
      "execution_count": null,
      "outputs": [
        {
          "output_type": "execute_result",
          "data": {
            "text/plain": [
              "0.5605843114902598"
            ]
          },
          "metadata": {},
          "execution_count": 209
        }
      ]
    },
    {
      "cell_type": "code",
      "metadata": {
        "colab": {
          "base_uri": "https://localhost:8080/",
          "height": 312
        },
        "id": "Z78UePfi_m_Y",
        "outputId": "92824fc9-c094-410c-fb41-c6756a3cee4e"
      },
      "source": [
        "plt.scatter(d_test,y_pred3)\n",
        "plt.xlabel('Actual Marks')\n",
        "plt.ylabel('Predicted Marks')\n",
        "plt.title('Actual Marks V/s Predicted Marks')"
      ],
      "execution_count": null,
      "outputs": [
        {
          "output_type": "execute_result",
          "data": {
            "text/plain": [
              "Text(0.5, 1.0, 'Actual Marks V/s Predicted Marks')"
            ]
          },
          "metadata": {},
          "execution_count": 211
        },
        {
          "output_type": "display_data",
          "data": {
            "image/png": "[encoded data removed]",
            "text/plain": [
              "<Figure size 432x288 with 1 Axes>"
            ]
          },
          "metadata": {
            "needs_background": "light"
          }
        }
      ]
    }
  ]
}